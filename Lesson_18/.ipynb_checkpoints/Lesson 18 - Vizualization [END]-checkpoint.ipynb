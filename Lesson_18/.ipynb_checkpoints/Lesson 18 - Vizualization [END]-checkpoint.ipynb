{
 "cells": [
  {
   "cell_type": "markdown",
   "metadata": {
    "colab_type": "text",
    "dc": {
     "key": "4"
    },
    "deletable": false,
    "editable": false,
    "id": "XU99Wpy4u93P",
    "run_control": {
     "frozen": true
    },
    "tags": [
     "context"
    ]
   },
   "source": [
    "# John Snow"
   ]
  },
  {
   "cell_type": "markdown",
   "metadata": {
    "colab_type": "text",
    "id": "rfdFbCG_u93S"
   },
   "source": [
    "## Introduction"
   ]
  },
  {
   "cell_type": "markdown",
   "metadata": {
    "colab_type": "text",
    "dc": {
     "key": "4"
    },
    "deletable": false,
    "editable": false,
    "id": "bZvsHzt8u93T",
    "run_control": {
     "frozen": true
    },
    "tags": [
     "context"
    ]
   },
   "source": [
    "<left><img width=\"150\" src=\"https://s3.amazonaws.com/assets.datacamp.com/production/project_132/img/johnsnow_final1.png\"></left>\n",
    "\n",
    "\n",
    "Dr. John Snow (1813-1858) was a famous British physician and is widely recognized as a legendary figure in the history of public health and a leading pioneer in the development of anesthesia. Some even say one of the greatest physicians of all time.</p>\n",
    "\n",
    "As a leading advocate of both anesthesia and hygienic practices in medicine, he not only experimented with ether and chloroform but also designed a mask and method how to administer it. He personally administered chloroform to Queen Victoria during the births of her eighth and ninth children, in 1853 and 1857, which assured a growing public acceptance of the use of anesthetics during childbirth.\n",
    "\n",
    "But, as we will show later, not all his life was just a success. John Snow is now also recognized as one of the founders of modern epidemiology (some also consider **him as the founder of data visualization**, spatial analysis, data science in general, and many other related fields) for his scientific and pretty modern data approach in identifying the source of a cholera outbreak in Soho, London in 1854, but it wasn't always like this. In fact, for a long time, he was simply ignored by the scientific community and currently is very often mythified.\n",
    "\n",
    "In this notebook, we're not only going to rediscover his \"data story\", but reanalyze the data that he collected in 1854 and recreate his famous map (also called The Ghost Map).\n",
    "\n",
    "\n",
    "A big thank you to [Robin Wilson](http://blog.rtwilson.com/john-snows-famous-cholera-analysis-data-in-modern-gis-formats/) from Southampton University who digitized John Snow’s original data and georeferenced it to the Ordnance Survey co-ordinate system which will allow us to analyze it and overlay it on modern maps of that area.\n",
    "\n",
    "**Exercise**\n",
    "\n",
    "<left><img width=\"100\" src=\"https://drive.google.com/uc?export=view&id=1E8tR7B9YYUXsU_rddJAyq0FrM0MSelxZ\"></left>\n",
    "\n",
    "- Read about Dr. John Snow to the right.\n",
    "- Load in the **pandas** module.\n",
    "- Import the data **datasets/deaths.csv** and assign the resulting DataFrame to **deaths**.\n",
    "- Print out the first rows of deaths."
   ]
  },
  {
   "cell_type": "code",
   "execution_count": 1,
   "metadata": {
    "colab": {},
    "colab_type": "code",
    "dc": {
     "key": "4"
    },
    "id": "vTEGpsdDu93T",
    "tags": [
     "sample_code"
    ]
   },
   "outputs": [],
   "source": [
    "import pandas as pd\n",
    "deaths = pd.read_csv(\"datasets/deaths.csv\")"
   ]
  },
  {
   "cell_type": "code",
   "execution_count": 3,
   "metadata": {},
   "outputs": [
    {
     "data": {
      "text/html": [
       "<div>\n",
       "<style scoped>\n",
       "    .dataframe tbody tr th:only-of-type {\n",
       "        vertical-align: middle;\n",
       "    }\n",
       "\n",
       "    .dataframe tbody tr th {\n",
       "        vertical-align: top;\n",
       "    }\n",
       "\n",
       "    .dataframe thead th {\n",
       "        text-align: right;\n",
       "    }\n",
       "</style>\n",
       "<table border=\"1\" class=\"dataframe\">\n",
       "  <thead>\n",
       "    <tr style=\"text-align: right;\">\n",
       "      <th></th>\n",
       "      <th>Death</th>\n",
       "      <th>X coordinate</th>\n",
       "      <th>Y coordinate</th>\n",
       "    </tr>\n",
       "  </thead>\n",
       "  <tbody>\n",
       "    <tr>\n",
       "      <th>0</th>\n",
       "      <td>1</td>\n",
       "      <td>51.513418</td>\n",
       "      <td>-0.137930</td>\n",
       "    </tr>\n",
       "    <tr>\n",
       "      <th>1</th>\n",
       "      <td>1</td>\n",
       "      <td>51.513418</td>\n",
       "      <td>-0.137930</td>\n",
       "    </tr>\n",
       "    <tr>\n",
       "      <th>2</th>\n",
       "      <td>1</td>\n",
       "      <td>51.513418</td>\n",
       "      <td>-0.137930</td>\n",
       "    </tr>\n",
       "    <tr>\n",
       "      <th>3</th>\n",
       "      <td>1</td>\n",
       "      <td>51.513361</td>\n",
       "      <td>-0.137883</td>\n",
       "    </tr>\n",
       "    <tr>\n",
       "      <th>4</th>\n",
       "      <td>1</td>\n",
       "      <td>51.513361</td>\n",
       "      <td>-0.137883</td>\n",
       "    </tr>\n",
       "  </tbody>\n",
       "</table>\n",
       "</div>"
      ],
      "text/plain": [
       "   Death  X coordinate  Y coordinate\n",
       "0      1     51.513418     -0.137930\n",
       "1      1     51.513418     -0.137930\n",
       "2      1     51.513418     -0.137930\n",
       "3      1     51.513361     -0.137883\n",
       "4      1     51.513361     -0.137883"
      ]
     },
     "execution_count": 3,
     "metadata": {},
     "output_type": "execute_result"
    }
   ],
   "source": [
    "deaths.head()"
   ]
  },
  {
   "cell_type": "markdown",
   "metadata": {
    "colab_type": "text",
    "dc": {
     "key": "11"
    },
    "deletable": false,
    "editable": false,
    "id": "zYovVuwXu93X",
    "run_control": {
     "frozen": true
    },
    "tags": [
     "context"
    ]
   },
   "source": [
    "## Cholera attacks!\n",
    "\n",
    "<left><img width=\"200\" src=\"https://s3.amazonaws.com/assets.datacamp.com/production/project_132/img/johnsnow_cholera1.jpg\"></left>\n",
    "\n",
    "Prior to John Snow's discovery cholera was a regular visitor to London’s overcrowded and unsanitary streets. During the time of the third cholera outbreak, it was one of the most studied subjects (between years 1839-1856 over 700 studies and essays were published in London alone) and nearly all of the authors believed the outbreaks were due to miasma or \"bad air\". \n",
    "\n",
    "It was John Snow's pioneering work with anesthesia and gases that made him doubt the miasma model of the disease. Originally he formulated and published his theory that cholera is spread by water or food  in an essay On the Mode of Communication of Cholera (before the outbreak in 1849). The essay received negative reviews in the Lancet and the London Medical Gazette. \n",
    "\n",
    "We know now that he was right, but Dr. Snow's dilemma was how to prove it? His first step to getting there was checking the data. Our dataset has 489 rows of data in 3 columns but to work with dataset more easily we will first make few changes. \n",
    "\n",
    "**Exercise**\n",
    "\n",
    "<left><img width=\"100\" src=\"https://drive.google.com/uc?export=view&id=1E8tR7B9YYUXsU_rddJAyq0FrM0MSelxZ\"></left>\n",
    "\n",
    "\n",
    "- Summarize the content of **deaths** (from previous exercise) with **.info()** method.\n",
    "- Prepare dictionary that will be used to rename the **Death**, **X coordinate**, and **Y coordinate** columns to **death_count**, **x_latitude**, and **y_longitude**, respectively.\n",
    "- Rename the columns of the dataset with the **.rename()** method.\n",
    "- Describe the dataset with the **.describe()** method."
   ]
  },
  {
   "cell_type": "code",
   "execution_count": 4,
   "metadata": {
    "colab": {},
    "colab_type": "code",
    "dc": {
     "key": "11"
    },
    "id": "C25Gef9su93X",
    "tags": [
     "sample_code"
    ]
   },
   "outputs": [
    {
     "name": "stdout",
     "output_type": "stream",
     "text": [
      "<class 'pandas.core.frame.DataFrame'>\n",
      "RangeIndex: 489 entries, 0 to 488\n",
      "Data columns (total 3 columns):\n",
      "Death           489 non-null int64\n",
      "X coordinate    489 non-null float64\n",
      "Y coordinate    489 non-null float64\n",
      "dtypes: float64(2), int64(1)\n",
      "memory usage: 11.5 KB\n"
     ]
    }
   ],
   "source": [
    "deaths.info()"
   ]
  },
  {
   "cell_type": "code",
   "execution_count": 10,
   "metadata": {},
   "outputs": [
    {
     "data": {
      "text/html": [
       "<div>\n",
       "<style scoped>\n",
       "    .dataframe tbody tr th:only-of-type {\n",
       "        vertical-align: middle;\n",
       "    }\n",
       "\n",
       "    .dataframe tbody tr th {\n",
       "        vertical-align: top;\n",
       "    }\n",
       "\n",
       "    .dataframe thead th {\n",
       "        text-align: right;\n",
       "    }\n",
       "</style>\n",
       "<table border=\"1\" class=\"dataframe\">\n",
       "  <thead>\n",
       "    <tr style=\"text-align: right;\">\n",
       "      <th></th>\n",
       "      <th>death_count</th>\n",
       "      <th>x_latitude</th>\n",
       "      <th>y_longitude</th>\n",
       "    </tr>\n",
       "  </thead>\n",
       "  <tbody>\n",
       "    <tr>\n",
       "      <th>count</th>\n",
       "      <td>489.0</td>\n",
       "      <td>489.000000</td>\n",
       "      <td>489.000000</td>\n",
       "    </tr>\n",
       "    <tr>\n",
       "      <th>mean</th>\n",
       "      <td>1.0</td>\n",
       "      <td>51.513398</td>\n",
       "      <td>-0.136403</td>\n",
       "    </tr>\n",
       "    <tr>\n",
       "      <th>std</th>\n",
       "      <td>0.0</td>\n",
       "      <td>0.000705</td>\n",
       "      <td>0.001503</td>\n",
       "    </tr>\n",
       "    <tr>\n",
       "      <th>min</th>\n",
       "      <td>1.0</td>\n",
       "      <td>51.511856</td>\n",
       "      <td>-0.140074</td>\n",
       "    </tr>\n",
       "    <tr>\n",
       "      <th>25%</th>\n",
       "      <td>1.0</td>\n",
       "      <td>51.512964</td>\n",
       "      <td>-0.137562</td>\n",
       "    </tr>\n",
       "    <tr>\n",
       "      <th>50%</th>\n",
       "      <td>1.0</td>\n",
       "      <td>51.513359</td>\n",
       "      <td>-0.136226</td>\n",
       "    </tr>\n",
       "    <tr>\n",
       "      <th>75%</th>\n",
       "      <td>1.0</td>\n",
       "      <td>51.513875</td>\n",
       "      <td>-0.135344</td>\n",
       "    </tr>\n",
       "    <tr>\n",
       "      <th>max</th>\n",
       "      <td>1.0</td>\n",
       "      <td>51.515834</td>\n",
       "      <td>-0.132933</td>\n",
       "    </tr>\n",
       "  </tbody>\n",
       "</table>\n",
       "</div>"
      ],
      "text/plain": [
       "       death_count  x_latitude  y_longitude\n",
       "count        489.0  489.000000   489.000000\n",
       "mean           1.0   51.513398    -0.136403\n",
       "std            0.0    0.000705     0.001503\n",
       "min            1.0   51.511856    -0.140074\n",
       "25%            1.0   51.512964    -0.137562\n",
       "50%            1.0   51.513359    -0.136226\n",
       "75%            1.0   51.513875    -0.135344\n",
       "max            1.0   51.515834    -0.132933"
      ]
     },
     "execution_count": 10,
     "metadata": {},
     "output_type": "execute_result"
    }
   ],
   "source": [
    "deaths = deaths.rename(columns={\"Death\": \"death_count\", \"X coordinate\": \"x_latitude\", \"Y coordinate\": \"y_longitude\"})\n",
    "deaths.describe()"
   ]
  },
  {
   "cell_type": "code",
   "execution_count": null,
   "metadata": {},
   "outputs": [],
   "source": []
  },
  {
   "cell_type": "markdown",
   "metadata": {
    "colab_type": "text",
    "dc": {
     "key": "18"
    },
    "deletable": false,
    "editable": false,
    "id": "5aLPzhoNu93a",
    "run_control": {
     "frozen": true
    },
    "tags": [
     "context"
    ]
   },
   "source": [
    "## You know nothing, John Snow!\n",
    "\n",
    "<left><img width=\"300\" \n",
    "src=\"https://s3.amazonaws.com/assets.datacamp.com/production/project_132/img/johnsnow_cholera_king2.png\"></left>\n",
    "\n",
    "It was somehow unthinkable that one man could debunk the miasma theory and prove that all the others got it wrong, so his work was mostly ignored. His medical colleagues simply said: \"You know nothing, John Snow!\"\n",
    "\n",
    "As already mentioned John Snow's first attempt to debunk the \"miasma\" theory ended with negative reviews. However, a reviewer made a helpful suggestion in terms of what evidence would be compelling: the crucial natural experiment would be to find people living side by side with lifestyles similar in all respects except for the water source. The cholera outbreak in Soho, London in 1854 gave Snow the opportunity not only to save lives this time but also to further test and improve his theory. But what about the final proof that he was right? \n",
    "\n",
    "We now know how John Snow did it, so let's get the data right first.\n",
    "\n",
    "**Exercise**\n",
    "\n",
    "<left><img width=\"100\" src=\"https://drive.google.com/uc?export=view&id=1E8tR7B9YYUXsU_rddJAyq0FrM0MSelxZ\"></left>\n",
    "\n",
    "- **Prepare** and **pre-process** the data for plotting.\n",
    "    - Create a subset (called **locations**) of the original dataset selecting only **x_latitude** and **y_longitude** columns.\n",
    "    - Transform this subset into list of **x_latitude** and **y_longitude** pairs and name it **deaths_list**. (tip: [here](https://stackoverflow.com/questions/28006793/pandas-dataframe-to-list-of-lists/28006809))\n",
    "    - Check the length of this list (the number of pairs)."
   ]
  },
  {
   "cell_type": "code",
   "execution_count": 0,
   "metadata": {
    "colab": {},
    "colab_type": "code",
    "dc": {
     "key": "18"
    },
    "id": "MIhK1eD0u93c",
    "tags": [
     "sample_code"
    ]
   },
   "outputs": [],
   "source": [
    "# put your code here"
   ]
  },
  {
   "cell_type": "markdown",
   "metadata": {
    "colab_type": "text",
    "dc": {
     "key": "25"
    },
    "deletable": false,
    "editable": false,
    "id": "Zf7NogUDu93e",
    "run_control": {
     "frozen": true
    },
    "tags": [
     "context"
    ]
   },
   "source": [
    "## The Ghost Map\n",
    "\n",
    "<left><img width=\"300\" \n",
    "src=\"https://s3.amazonaws.com/assets.datacamp.com/production/project_132/img/johnsnow_original.jpg\">\n",
    "</left>\n",
    "\n",
    "His original map, unfortunately, is not available (it might never even existed). We can see the famous one that he drew about a year later in 1855, though, and it is displayed in this cell. Because the map depicts and visualizes the deaths sometimes it is called also **The Ghost Map**. \n",
    "\n",
    "We now know how John Snow did it and have the data too, so let's recreate his map using modern techniques.\n",
    "\n",
    "**Exercise**\n",
    "\n",
    "<left><img width=\"100\" src=\"https://drive.google.com/uc?export=view&id=1E8tR7B9YYUXsU_rddJAyq0FrM0MSelxZ\"></left>\n",
    "\n",
    "- Loop through the **pre-processed** data to create a map.\n",
    "- Fill in the **len** function to loop through the data."
   ]
  },
  {
   "cell_type": "code",
   "execution_count": 0,
   "metadata": {
    "colab": {},
    "colab_type": "code",
    "dc": {
     "key": "25"
    },
    "id": "Ih5BRIyku93f",
    "tags": [
     "sample_code"
    ]
   },
   "outputs": [],
   "source": [
    "# Plot the data on map (map location is provided) using folium and for loop for plotting all the points\n",
    "import folium\n",
    "\n",
    "m = folium.Map(location=[51.5132119,-0.13666], tiles='Stamen Toner', zoom_start=17)\n",
    "for point in range(0, len(...)):\n",
    "    folium.CircleMarker(deaths_list[point], \n",
    "                        radius=8, color='red', \n",
    "                        fill=True, fill_color='red', \n",
    "                        opacity = 0.4).add_to(m)\n",
    "m"
   ]
  },
  {
   "cell_type": "markdown",
   "metadata": {
    "colab_type": "text",
    "id": "FuL1M3zdu93h"
   },
   "source": [
    "The map displayed in the notebook is also in the 2nd reprint of On the Mode of Communication of Cholera (1855) that is publicly available here."
   ]
  },
  {
   "cell_type": "markdown",
   "metadata": {
    "colab_type": "text",
    "dc": {
     "key": "32"
    },
    "deletable": false,
    "editable": false,
    "id": "8cnEoKXcu93i",
    "run_control": {
     "frozen": true
    },
    "tags": [
     "context"
    ]
   },
   "source": [
    "## It's the pump!\n",
    "\n",
    "<left><img width=\"300\" \n",
    "src=\"https://s3.amazonaws.com/assets.datacamp.com/production/project_132/img/johnsnow_caricature1.jpg\">\n",
    "</left>\n",
    "\n",
    "After marking the deaths on the map, what John Snow saw was not a random pattern (we saw this on our recreation of The Ghost Map too). The majority of the deaths were concentrated at the corner of Broad Street (now Broadwick Street) and Cambridge Street (now Lexington Street). A cluster of deaths around the junction of these streets was the epicenter of the outbreak, but what was there? Yes, a water pump.\n",
    "\n",
    "John Snow at the time already had a developed theory that cholera spreads through water, so to test this he marked on the map also the locations of the water pumps nearby. And here it was, the whole picture.\n",
    "\n",
    "By combining the location of deaths related to cholera with locations of the water pumps, Snow was able to show that the majority were clustered around one particular public water pump in Broad Street, Soho. Finally, he had the proof that he needed.\n",
    "\n",
    "We will now do the same and add the locations of the pumps to our recreation of The Ghost Map.\n",
    "\n",
    "**Exercise**\n",
    "\n",
    "<left><img width=\"100\" src=\"https://drive.google.com/uc?export=view&id=1E8tR7B9YYUXsU_rddJAyq0FrM0MSelxZ\"></left>\n",
    "\n",
    "- Recreate The Ghost Map.\n",
    "    - Import the data **datasets/pumps.csv** and assign the resulting DataFrame to **pumps**.\n",
    "    - Create subset **locations_pumps** of the original dataset (select only **'X coordinate'** and **'Y coordinate'** columns).\n",
    "    - Transform this subset into list of **'X coordinate'** and **'Y coordinate'** pairs and call it **pumps_list**.\n",
    "    - Create for loop to plot all the points on a map (we will use folium/Leaflet library again).\n"
   ]
  },
  {
   "cell_type": "code",
   "execution_count": 0,
   "metadata": {
    "colab": {},
    "colab_type": "code",
    "id": "JpSp7Flqu93j"
   },
   "outputs": [],
   "source": [
    "# Import the data\n",
    "pumps = ...\n",
    "\n",
    "# Subset the DataFrame and select just ['X coordinate', 'Y coordinate'] columns\n",
    "locations_pumps = ...\n",
    "\n",
    "# Transform the DataFrame to list of lists in form of ['X coordinate', 'Y coordinate'] pairs\n",
    "pumps_list = ...\n",
    "\n",
    "# Create a for loop and plot the data using folium (use previous map + add another layer)\n",
    "map1 = m\n",
    "for point in range(0, len(...)):\n",
    "    folium.Marker(...[point], popup=pumps['Pump Name'][point]).add_to(map1)\n",
    "map1"
   ]
  },
  {
   "cell_type": "markdown",
   "metadata": {
    "colab_type": "text",
    "dc": {
     "key": "39"
    },
    "deletable": false,
    "editable": false,
    "id": "W6IgPkxXu93m",
    "run_control": {
     "frozen": true
    },
    "tags": [
     "context"
    ]
   },
   "source": [
    "## You know nothing, John Snow! (again)\n",
    "\n",
    "<left><img width=\"500\" \n",
    "src=\"https://s3.amazonaws.com/assets.datacamp.com/production/project_132/img/johnsnow_map1.jpg\">\n",
    "</left>\n",
    "\n",
    "So, John Snow finally had his proof that there was a connection between deaths as a consequence of the cholera outbreak and the public water pump that was probably contaminated. But he didn't just stop there and investigated further.\n",
    "\n",
    "He was looking for **anomalies** now (we would now say \"outliers in data\") and found two in fact where there were no deaths. **First was brewery right on the Broad Street**, so he went there and learned that they drank mostly beer (in other words not the water from the local pump, which confirms his theory that the pump is the source of the outbreak). The second building without any deaths was **workhouse near Poland street** where he learned that their source of water was not the pump on the Broad Street (confirmation again). The locations of both buildings are visualized also on the map on the above.\n",
    "\n",
    "He was now sure, and although officials did not trust him nor his theory they removed the handle to the pump next day, 8th of September 1854. John Snow later collected and published in his famous book also all the data about deaths in chronological order, before and after the peak of the outbreak and we will now analyze and compare the effect when the handle was removed.\n",
    "\n",
    "**Exercise**\n",
    "\n",
    "<left><img width=\"100\" src=\"https://drive.google.com/uc?export=view&id=1E8tR7B9YYUXsU_rddJAyq0FrM0MSelxZ\"></left>\n",
    "\n",
    "\n",
    "- **Reanalyze** the John Snow's data about the Cholera Outbreak.\n",
    "    - Import the data **datasets/dates.csv** as DataFrame **dates** and parse date column as the **datetime** data type.\n",
    "    - Create new column **day_name** that will contain name of the day (Monday to Sunday) using **dt.weekday_name** attribute.\n",
    "    - Create new column **handle** that will contain a Boolean (**True** or **False**) for whether or not the handle was present."
   ]
  },
  {
   "cell_type": "code",
   "execution_count": 0,
   "metadata": {
    "colab": {},
    "colab_type": "code",
    "dc": {
     "key": "39"
    },
    "id": "5z1YejXSu93m",
    "tags": [
     "sample_code"
    ]
   },
   "outputs": [],
   "source": [
    "# Import the data the right way\n",
    "dates = ...('...', parse_dates=['date'])\n",
    "\n",
    "# Set the Date when handle was removed (8th of September 1854)\n",
    "handle_removed = pd.to_datetime('1854/9/8')\n",
    "\n",
    "# Create new column `day_name` in `dates` DataFrame with names of the day \n",
    "dates['day_name'] = ...\n",
    "\n",
    "# Create new column `handle` in `dates` DataFrame based on a Date the handle was removed \n",
    "dates['handle'] = ... > ...\n",
    "\n",
    "# Check the dataset and datatypes\n",
    "dates.info()\n",
    "\n",
    "# Create a comparison of how many cholera deaths and attacks there were before and after the handle was removed\n",
    "dates.groupby(['handle']).sum()"
   ]
  },
  {
   "cell_type": "markdown",
   "metadata": {
    "colab_type": "text",
    "dc": {
     "key": "46"
    },
    "deletable": false,
    "editable": false,
    "id": "noPUlohku93p",
    "run_control": {
     "frozen": true
    },
    "tags": [
     "context"
    ]
   },
   "source": [
    "## The picture worth a thousand words\n",
    "<img style=\"float: left;margin:5px 20px 5px 1px\" src=\"https://s3.amazonaws.com/assets.datacamp.com/production/project_132/img/johnsnow_pump1.jpg\"> \n",
    "\n",
    "Removing the handle from the pump prevented any more of the infected water from being collected. The spring below the pump was later found to have been contaminated with sewage. This act was later recognized as an early example of epidemiology, public health medicine and the application of science (the germ theory of disease) in a real-life crisis.\n",
    "\n",
    "A replica of the pump, together with an explanatory and memorial plaque and without a handle was erected in 1992  near the location of the original close to the back wall of what today is the John Snow pub. The site is subtly marked with a pink granite kerbstone in front of a small wall plaque.\n",
    "\n",
    "We can learn a lot from John Snow's data. We can take a look at absolute counts, but this observation could lead us to a wrong conclusion so let's take a different look on the data using [Plotly](https://github.com/plotly/plotly.py/). \n",
    "\n",
    "Thanks to John Snow we have the data in chronological order (i.e. as time series data), so the best way to see the whole picture is to visualize it and look at it the way he saw it while writing **On the Mode of Communication of Cholera (1855).**"
   ]
  },
  {
   "cell_type": "markdown",
   "metadata": {
    "colab_type": "text",
    "dc": {
     "key": "53"
    },
    "deletable": false,
    "editable": false,
    "id": "8iVChiEhu935",
    "run_control": {
     "frozen": true
    },
    "tags": [
     "context"
    ]
   },
   "source": [
    "## John Snow's myth & Did we learn something?\n",
    "<left><img style=\"float: left;margin:5px 20px 5px 1px\" src=\"https://s3.amazonaws.com/assets.datacamp.com/production/project_132/img/johnsnow_water1.jpg\"></left>\n",
    "\n",
    "From the previous interactive visualization, we can clearly see that the peak of the cholera outbreak happened before removing the handle and it was already in decline (downside trajectory) before the 8th of September 1854.\n",
    "\n",
    "This different view on the data is very important because in case that we compare just absolute numbers this could lead us to wrong conclusion that removing the handle on Broad Street pump for sure stopped the outbreak, which is simply not true (it surely did help but did not stop the outbreak) and John Snow was aware of this (he just did what needed to be done and never aspired to become a hero).\n",
    "\n",
    "But people love stories about heroes and other myths (definitely more than science or data science). According to John Snow's myth, he was the superhero who in two days defied their equals by hypothesizing that cholera was a waterborne disease. Despite no one listening to him, he bravely continued drawing his map, convinced local authorities to remove the handle of the infected water pump with his findings, and stopped the outbreak. John Snow saved the lives of many Londoners.\n",
    "\n",
    "If we take a better look behind this story, we can find also the true John Snow, who was fighting the disease with limited tools and wanted to get proof that he was right and \"knew something\" about cholera. He just did what he could with limited time and always boiled his water before drinking."
   ]
  },
  {
   "cell_type": "code",
   "execution_count": 0,
   "metadata": {
    "colab": {},
    "colab_type": "code",
    "dc": {
     "key": "53"
    },
    "id": "anEyByeJu935",
    "tags": [
     "sample_code"
    ]
   },
   "outputs": [],
   "source": [
    "# Based on John Snow's map and the data John Snow collected, what would you say?\n",
    "john_snow_knows_nothing = ..."
   ]
  }
 ],
 "metadata": {
  "colab": {
   "name": "Lesson 18 - Vizualization [END].ipynb",
   "provenance": [],
   "version": "0.3.2"
  },
  "kernelspec": {
   "display_name": "Python 3",
   "language": "python",
   "name": "python3"
  },
  "language_info": {
   "codemirror_mode": {
    "name": "ipython",
    "version": 3
   },
   "file_extension": ".py",
   "mimetype": "text/x-python",
   "name": "python",
   "nbconvert_exporter": "python",
   "pygments_lexer": "ipython3",
   "version": "3.5.5"
  }
 },
 "nbformat": 4,
 "nbformat_minor": 1
}
